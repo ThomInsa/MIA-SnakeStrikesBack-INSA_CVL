{
 "cells": [
  {
   "cell_type": "code",
   "id": "initial_id",
   "metadata": {
    "collapsed": true,
    "ExecuteTime": {
     "end_time": "2025-01-13T15:14:55.865483Z",
     "start_time": "2025-01-13T15:14:55.860827Z"
    }
   },
   "source": [
    "import os\n",
    "os.chdir('/Users/thom/Personnel/Scolaire/MIA/snake2-beta-insa-main/data/teamExperiments')"
   ],
   "outputs": [],
   "execution_count": 7
  },
  {
   "metadata": {
    "ExecuteTime": {
     "end_time": "2025-01-13T15:14:55.876793Z",
     "start_time": "2025-01-13T15:14:55.873376Z"
    }
   },
   "cell_type": "code",
   "source": "from evaluateSets.compareDistributions import *",
   "id": "ef040d77cd205b40",
   "outputs": [],
   "execution_count": 8
  },
  {
   "metadata": {
    "ExecuteTime": {
     "end_time": "2025-01-13T15:14:55.989853Z",
     "start_time": "2025-01-13T15:14:55.986382Z"
    }
   },
   "cell_type": "code",
   "source": "pathToTrain = 'createdSets/Task 22/train'",
   "id": "dd254a8916f25aca",
   "outputs": [],
   "execution_count": 9
  },
  {
   "metadata": {
    "ExecuteTime": {
     "end_time": "2025-01-13T15:14:56.043722Z",
     "start_time": "2025-01-13T15:14:56.004352Z"
    }
   },
   "cell_type": "code",
   "source": "mySets = getDatasetsFromFilePath(pathToTrain)",
   "id": "e44db98607fb4386",
   "outputs": [],
   "execution_count": 10
  },
  {
   "metadata": {
    "ExecuteTime": {
     "end_time": "2025-01-13T15:14:56.120382Z",
     "start_time": "2025-01-13T15:14:56.099395Z"
    }
   },
   "cell_type": "code",
   "source": "mySets['4']",
   "id": "f76392d4d258e9ab",
   "outputs": [
    {
     "data": {
      "text/plain": [
       "            0         1         2         3         4         5         6\n",
       "0    0.283335  0.350597  0.340521  0.405706  0.427996  0.335429  0.326899\n",
       "1    0.506925  0.379493  0.402070  0.302336  0.340324  0.174405  0.246000\n",
       "2    0.304640  0.386993  0.000000  0.000000  0.000000  0.000000  0.000000\n",
       "3    0.271910  0.055988  0.067428  0.141448  0.125462  0.102961  0.140312\n",
       "4    0.101567  0.043669  0.300352  0.049715  0.265774  0.035199  0.056716\n",
       "..        ...       ...       ...       ...       ...       ...       ...\n",
       "995  0.113083  0.108007  0.045897  0.196300  0.068868  0.109961  0.273759\n",
       "996  0.286836  0.366159  0.308352  0.277290  0.000000  0.000000  0.269031\n",
       "997  0.307822  0.255622  0.524789  0.325020  0.399797  0.622916  0.585490\n",
       "998  0.000000  0.000000  0.179723  0.297791  0.536836  0.452452  0.424541\n",
       "999  0.594400  0.481817  0.446770  0.266152  0.658479  0.562610  0.569807\n",
       "\n",
       "[1000 rows x 7 columns]"
      ],
      "text/html": [
       "<div>\n",
       "<style scoped>\n",
       "    .dataframe tbody tr th:only-of-type {\n",
       "        vertical-align: middle;\n",
       "    }\n",
       "\n",
       "    .dataframe tbody tr th {\n",
       "        vertical-align: top;\n",
       "    }\n",
       "\n",
       "    .dataframe thead th {\n",
       "        text-align: right;\n",
       "    }\n",
       "</style>\n",
       "<table border=\"1\" class=\"dataframe\">\n",
       "  <thead>\n",
       "    <tr style=\"text-align: right;\">\n",
       "      <th></th>\n",
       "      <th>0</th>\n",
       "      <th>1</th>\n",
       "      <th>2</th>\n",
       "      <th>3</th>\n",
       "      <th>4</th>\n",
       "      <th>5</th>\n",
       "      <th>6</th>\n",
       "    </tr>\n",
       "  </thead>\n",
       "  <tbody>\n",
       "    <tr>\n",
       "      <th>0</th>\n",
       "      <td>0.283335</td>\n",
       "      <td>0.350597</td>\n",
       "      <td>0.340521</td>\n",
       "      <td>0.405706</td>\n",
       "      <td>0.427996</td>\n",
       "      <td>0.335429</td>\n",
       "      <td>0.326899</td>\n",
       "    </tr>\n",
       "    <tr>\n",
       "      <th>1</th>\n",
       "      <td>0.506925</td>\n",
       "      <td>0.379493</td>\n",
       "      <td>0.402070</td>\n",
       "      <td>0.302336</td>\n",
       "      <td>0.340324</td>\n",
       "      <td>0.174405</td>\n",
       "      <td>0.246000</td>\n",
       "    </tr>\n",
       "    <tr>\n",
       "      <th>2</th>\n",
       "      <td>0.304640</td>\n",
       "      <td>0.386993</td>\n",
       "      <td>0.000000</td>\n",
       "      <td>0.000000</td>\n",
       "      <td>0.000000</td>\n",
       "      <td>0.000000</td>\n",
       "      <td>0.000000</td>\n",
       "    </tr>\n",
       "    <tr>\n",
       "      <th>3</th>\n",
       "      <td>0.271910</td>\n",
       "      <td>0.055988</td>\n",
       "      <td>0.067428</td>\n",
       "      <td>0.141448</td>\n",
       "      <td>0.125462</td>\n",
       "      <td>0.102961</td>\n",
       "      <td>0.140312</td>\n",
       "    </tr>\n",
       "    <tr>\n",
       "      <th>4</th>\n",
       "      <td>0.101567</td>\n",
       "      <td>0.043669</td>\n",
       "      <td>0.300352</td>\n",
       "      <td>0.049715</td>\n",
       "      <td>0.265774</td>\n",
       "      <td>0.035199</td>\n",
       "      <td>0.056716</td>\n",
       "    </tr>\n",
       "    <tr>\n",
       "      <th>...</th>\n",
       "      <td>...</td>\n",
       "      <td>...</td>\n",
       "      <td>...</td>\n",
       "      <td>...</td>\n",
       "      <td>...</td>\n",
       "      <td>...</td>\n",
       "      <td>...</td>\n",
       "    </tr>\n",
       "    <tr>\n",
       "      <th>995</th>\n",
       "      <td>0.113083</td>\n",
       "      <td>0.108007</td>\n",
       "      <td>0.045897</td>\n",
       "      <td>0.196300</td>\n",
       "      <td>0.068868</td>\n",
       "      <td>0.109961</td>\n",
       "      <td>0.273759</td>\n",
       "    </tr>\n",
       "    <tr>\n",
       "      <th>996</th>\n",
       "      <td>0.286836</td>\n",
       "      <td>0.366159</td>\n",
       "      <td>0.308352</td>\n",
       "      <td>0.277290</td>\n",
       "      <td>0.000000</td>\n",
       "      <td>0.000000</td>\n",
       "      <td>0.269031</td>\n",
       "    </tr>\n",
       "    <tr>\n",
       "      <th>997</th>\n",
       "      <td>0.307822</td>\n",
       "      <td>0.255622</td>\n",
       "      <td>0.524789</td>\n",
       "      <td>0.325020</td>\n",
       "      <td>0.399797</td>\n",
       "      <td>0.622916</td>\n",
       "      <td>0.585490</td>\n",
       "    </tr>\n",
       "    <tr>\n",
       "      <th>998</th>\n",
       "      <td>0.000000</td>\n",
       "      <td>0.000000</td>\n",
       "      <td>0.179723</td>\n",
       "      <td>0.297791</td>\n",
       "      <td>0.536836</td>\n",
       "      <td>0.452452</td>\n",
       "      <td>0.424541</td>\n",
       "    </tr>\n",
       "    <tr>\n",
       "      <th>999</th>\n",
       "      <td>0.594400</td>\n",
       "      <td>0.481817</td>\n",
       "      <td>0.446770</td>\n",
       "      <td>0.266152</td>\n",
       "      <td>0.658479</td>\n",
       "      <td>0.562610</td>\n",
       "      <td>0.569807</td>\n",
       "    </tr>\n",
       "  </tbody>\n",
       "</table>\n",
       "<p>1000 rows × 7 columns</p>\n",
       "</div>"
      ]
     },
     "execution_count": 11,
     "metadata": {},
     "output_type": "execute_result"
    }
   ],
   "execution_count": 11
  }
 ],
 "metadata": {
  "kernelspec": {
   "display_name": "Python 3",
   "language": "python",
   "name": "python3"
  },
  "language_info": {
   "codemirror_mode": {
    "name": "ipython",
    "version": 2
   },
   "file_extension": ".py",
   "mimetype": "text/x-python",
   "name": "python",
   "nbconvert_exporter": "python",
   "pygments_lexer": "ipython2",
   "version": "2.7.6"
  }
 },
 "nbformat": 4,
 "nbformat_minor": 5
}
