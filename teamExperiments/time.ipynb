{
 "cells": [
  {
   "cell_type": "code",
   "id": "initial_id",
   "metadata": {
    "collapsed": true,
    "ExecuteTime": {
     "end_time": "2025-01-23T12:04:29.193321Z",
     "start_time": "2025-01-23T12:04:29.189924Z"
    }
   },
   "source": [
    "import pandas as pd\n",
    "import seaborn as sns"
   ],
   "outputs": [],
   "execution_count": 1
  },
  {
   "metadata": {
    "ExecuteTime": {
     "end_time": "2025-01-23T12:04:29.216416Z",
     "start_time": "2025-01-23T12:04:29.211591Z"
    }
   },
   "cell_type": "code",
   "source": [
    "data = {'Length' : [2000, 30000, 100000, 200000], 'Duration' : [0.1, 1, 5, 43]}\n",
    "timeDF = pd.DataFrame(data)"
   ],
   "id": "a99fc35c468949e7",
   "outputs": [],
   "execution_count": 2
  },
  {
   "metadata": {
    "ExecuteTime": {
     "end_time": "2025-01-23T12:04:29.247748Z",
     "start_time": "2025-01-23T12:04:29.230550Z"
    }
   },
   "cell_type": "code",
   "source": "timeDF",
   "id": "9c2d52a0c66be30a",
   "outputs": [
    {
     "data": {
      "text/plain": [
       "   Length  Duration\n",
       "0    2000       0.1\n",
       "1   30000       1.0\n",
       "2  100000       5.0\n",
       "3  200000      43.0"
      ],
      "text/html": [
       "<div>\n",
       "<style scoped>\n",
       "    .dataframe tbody tr th:only-of-type {\n",
       "        vertical-align: middle;\n",
       "    }\n",
       "\n",
       "    .dataframe tbody tr th {\n",
       "        vertical-align: top;\n",
       "    }\n",
       "\n",
       "    .dataframe thead th {\n",
       "        text-align: right;\n",
       "    }\n",
       "</style>\n",
       "<table border=\"1\" class=\"dataframe\">\n",
       "  <thead>\n",
       "    <tr style=\"text-align: right;\">\n",
       "      <th></th>\n",
       "      <th>Length</th>\n",
       "      <th>Duration</th>\n",
       "    </tr>\n",
       "  </thead>\n",
       "  <tbody>\n",
       "    <tr>\n",
       "      <th>0</th>\n",
       "      <td>2000</td>\n",
       "      <td>0.1</td>\n",
       "    </tr>\n",
       "    <tr>\n",
       "      <th>1</th>\n",
       "      <td>30000</td>\n",
       "      <td>1.0</td>\n",
       "    </tr>\n",
       "    <tr>\n",
       "      <th>2</th>\n",
       "      <td>100000</td>\n",
       "      <td>5.0</td>\n",
       "    </tr>\n",
       "    <tr>\n",
       "      <th>3</th>\n",
       "      <td>200000</td>\n",
       "      <td>43.0</td>\n",
       "    </tr>\n",
       "  </tbody>\n",
       "</table>\n",
       "</div>"
      ]
     },
     "execution_count": 3,
     "metadata": {},
     "output_type": "execute_result"
    }
   ],
   "execution_count": 3
  },
  {
   "metadata": {
    "ExecuteTime": {
     "end_time": "2025-01-23T12:19:16.309821Z",
     "start_time": "2025-01-23T12:19:15.635345Z"
    }
   },
   "cell_type": "code",
   "source": [
    "from matplotlib import pyplot as plt\n",
    "\n",
    "plt.figure(figsize=(50,50))\n",
    "sns.relplot(data=timeDF, x=\"Length\", y=\"Duration\")\n",
    "plt.title(\"Running duration of a classification process\")\n",
    "plt.xlabel(\"Length (Number of samples)\")\n",
    "plt.ylabel(\"Duration (h)\")"
   ],
   "id": "a8ac52d619273fbf",
   "outputs": [
    {
     "data": {
      "text/plain": [
       "Text(13.319444444444445, 0.5, 'Duration (h)')"
      ]
     },
     "execution_count": 9,
     "metadata": {},
     "output_type": "execute_result"
    },
    {
     "data": {
      "text/plain": [
       "<Figure size 5000x5000 with 0 Axes>"
      ]
     },
     "metadata": {},
     "output_type": "display_data"
    },
    {
     "data": {
      "text/plain": [
       "<Figure size 500x500 with 1 Axes>"
      ],
      "image/png": "[encoded data removed]"
     },
     "metadata": {},
     "output_type": "display_data"
    }
   ],
   "execution_count": 9
  },
  {
   "metadata": {
    "ExecuteTime": {
     "end_time": "2025-01-23T12:04:30.410904Z",
     "start_time": "2025-01-23T12:04:30.404768Z"
    }
   },
   "cell_type": "code",
   "source": "",
   "id": "43bf7eaed65bcffa",
   "outputs": [],
   "execution_count": null
  }
 ],
 "metadata": {
  "kernelspec": {
   "display_name": "Python 3",
   "language": "python",
   "name": "python3"
  },
  "language_info": {
   "codemirror_mode": {
    "name": "ipython",
    "version": 2
   },
   "file_extension": ".py",
   "mimetype": "text/x-python",
   "name": "python",
   "nbconvert_exporter": "python",
   "pygments_lexer": "ipython2",
   "version": "2.7.6"
  }
 },
 "nbformat": 4,
 "nbformat_minor": 5
}
