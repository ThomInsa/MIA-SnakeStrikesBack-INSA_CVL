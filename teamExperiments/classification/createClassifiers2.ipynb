{
 "cells": [
  {
   "cell_type": "code",
   "id": "initial_id",
   "metadata": {
    "collapsed": true,
    "ExecuteTime": {
     "end_time": "2025-01-20T14:50:32.556208Z",
     "start_time": "2025-01-20T14:50:30.036052Z"
    }
   },
   "source": [
    "import os\n",
    "\n",
    "from mlxtend.classifier import LogisticRegression\n",
    "\n",
    "from data.teamExperiments.trainClassifiers import trainStackingClassifier\n",
    "\n",
    "os.chdir('/Users/thom/Personnel/Scolaire/MIA/snake2-beta-insa-main/data/teamExperiments')\n",
    "\n",
    "from trainClassifiers import *\n",
    "from prepareData import *"
   ],
   "outputs": [],
   "execution_count": 2
  },
  {
   "metadata": {
    "ExecuteTime": {
     "end_time": "2025-01-20T14:41:59.776986Z",
     "start_time": "2025-01-20T14:41:27.923681Z"
    }
   },
   "cell_type": "code",
   "source": [
    "print(\"\\n--------------------------------\\nCreation of classifiers training dataset\\n--------------------------------\\n\")\n",
    "%run classification/makeClassifierTrainingDataset2.ipynb\n",
    "print(\"\\n--------------------------------\\nTraining of classifiers\\n--------------------------------\\n\")"
   ],
   "id": "6a08b80ea7aae804",
   "outputs": [
    {
     "name": "stdout",
     "output_type": "stream",
     "text": [
      "\n",
      "----------------\n",
      "Creation of classifiers training dataset\n",
      "----------------\n",
      "\n",
      "\n",
      "----------------\n",
      "Training of classifiers\n",
      "----------------\n",
      "\n"
     ]
    }
   ],
   "execution_count": 13
  },
  {
   "metadata": {
    "ExecuteTime": {
     "end_time": "2025-01-20T14:41:59.826628Z",
     "start_time": "2025-01-20T14:41:59.814677Z"
    }
   },
   "cell_type": "code",
   "source": [
    "X_train, X_test, y_train, y_test = get_train_test_X_y(trainingSet, 'isMember', size=0.3)\n",
    "X = pd.concat([X_train, X_test])\n",
    "y = pd.concat([y_train, y_test])"
   ],
   "id": "1e4690ee10dc5f57",
   "outputs": [],
   "execution_count": 14
  },
  {
   "metadata": {
    "ExecuteTime": {
     "end_time": "2025-01-20T14:50:43.166778Z",
     "start_time": "2025-01-20T14:50:43.162188Z"
    }
   },
   "cell_type": "code",
   "source": [
    "modelsToUse = [\n",
    "    LogisticRegression,\n",
    "    DecisionTreeClassifier,\n",
    "    KNeighborsClassifier,\n",
    "    GaussianNB,\n",
    "    SVC,\n",
    "    RandomForestClassifier,\n",
    "    xgboost.XGBClassifier,\n",
    "]"
   ],
   "id": "d16b5946904f058b",
   "outputs": [
    {
     "name": "stdout",
     "output_type": "stream",
     "text": [
      "LogisticRegression\n"
     ]
    }
   ],
   "execution_count": 4
  },
  {
   "metadata": {
    "ExecuteTime": {
     "end_time": "2025-01-20T14:41:59.957088Z",
     "start_time": "2025-01-20T14:41:59.948981Z"
    }
   },
   "cell_type": "code",
   "source": "classifiersCollection = trainModels(modelsToUse, X_train, y_train)",
   "id": "d5f6f73b39f371b5",
   "outputs": [
    {
     "name": "stdout",
     "output_type": "stream",
     "text": [
      "Training model : <class 'sklearn.linear_model._logistic.LogisticRegression'>\n",
      "Training model : <class 'sklearn.naive_bayes.GaussianNB'>\n"
     ]
    }
   ],
   "execution_count": 16
  },
  {
   "metadata": {
    "ExecuteTime": {
     "end_time": "2025-01-20T14:42:00.264690Z",
     "start_time": "2025-01-20T14:42:00.012316Z"
    }
   },
   "cell_type": "code",
   "source": [
    "predictionsCollection = createCollection_Predictions(classifiersCollection, X_test)\n",
    "precisionsCollection = createCollection_PrecisionScore(y_test, predictionsCollection)\n",
    "ROCMCollection = createCollection_ROC(classifiersCollection, X, y, X_train, y_train, value = \"mean\")\n",
    "ROCSCollection = createCollection_ROC(classifiersCollection, X, y, X_train, y_train, value = \"std\")\n",
    "confusionMatricesCollection = createCollection_ConfusionMatrices(y_test, predictionsCollection)"
   ],
   "id": "c9d14f7cee1cb5d1",
   "outputs": [
    {
     "name": "stdout",
     "output_type": "stream",
     "text": [
      "Computing ROC for : LogisticRegression()\n",
      "Computing ROC for : GaussianNB()\n",
      "Computing ROC for : LogisticRegression()\n",
      "Computing ROC for : GaussianNB()\n"
     ]
    }
   ],
   "execution_count": 17
  },
  {
   "metadata": {
    "ExecuteTime": {
     "end_time": "2025-01-20T14:42:00.330998Z",
     "start_time": "2025-01-20T14:42:00.320494Z"
    }
   },
   "cell_type": "code",
   "source": "classifiers_MetricsDatabase = createClassifiersMetricsDB(classifiersCollection, X, y, precisionsCollection, confusionMatricesCollection, ROCMCollection, ROCSCollection)",
   "id": "78dd878717f4da24",
   "outputs": [
    {
     "name": "stdout",
     "output_type": "stream",
     "text": [
      "Adding model to DB : LogisticRegression()\n",
      "Adding model to DB : GaussianNB()\n"
     ]
    }
   ],
   "execution_count": 19
  },
  {
   "metadata": {},
   "cell_type": "markdown",
   "source": "### Adding Stacking Classifier\n",
   "id": "519d819452a43702"
  },
  {
   "metadata": {
    "ExecuteTime": {
     "end_time": "2025-01-20T14:42:00.789741Z",
     "start_time": "2025-01-20T14:42:00.425699Z"
    }
   },
   "cell_type": "code",
   "source": [
    "StackClass = trainStackingClassifier(classifiersCollection, X_train, y_train)\n",
    "StackArray = [StackClass]\n",
    "predictionsCollection = createCollection_Predictions(StackArray, X_test)\n",
    "precisionsCollection = createCollection_PrecisionScore(y_test, predictionsCollection)\n",
    "ROCMCollection = createCollection_ROC(StackArray, X, y, X_train, y_train, value = \"mean\")\n",
    "ROCSCollection = createCollection_ROC(StackArray, X, y, X_train, y_train, value = \"std\")\n",
    "confusionMatricesCollection = createCollection_ConfusionMatrices(y_test, predictionsCollection)\n",
    "\n",
    "classifiers_MetricsDatabase.loc[len(classifiers_MetricsDatabase)] = (StackClass , StackClass.__class__.__name__, StackClass.score(X,y), precisionsCollection[0], str((confusionMatricesCollection[0]).tolist()), ROCMCollection[0], ROCSCollection[0])\n",
    "\n",
    "classifiersCollection.append(StackClass)"
   ],
   "id": "339e5a5a97dac4c2",
   "outputs": [
    {
     "name": "stdout",
     "output_type": "stream",
     "text": [
      "Computing ROC for : StackingClassifier(classifiers=[LogisticRegression(), GaussianNB()],\n",
      "                   meta_classifier=LogisticRegression())\n",
      "Computing ROC for : StackingClassifier(classifiers=[LogisticRegression(), GaussianNB()],\n",
      "                   meta_classifier=LogisticRegression())\n",
      "[array([[0.27, 0.24],\n",
      "       [0.27, 0.22]])]\n"
     ]
    }
   ],
   "execution_count": 20
  },
  {
   "metadata": {
    "ExecuteTime": {
     "end_time": "2025-01-20T14:42:00.913939Z",
     "start_time": "2025-01-20T14:42:00.907561Z"
    }
   },
   "cell_type": "code",
   "source": [
    "directory_path = f\"/Users/thom/Personnel/Scolaire/MIA/snake2-beta-insa-main/data/teamExperiments/results/classifiersPerfs/\"\n",
    "file_name = \"newClassifiers_\"\n",
    "saveClassifiersMetricsDB(classifiers_MetricsDatabase, directory_path, file_name)"
   ],
   "id": "fc0cd6102206b1f1",
   "outputs": [],
   "execution_count": 22
  }
 ],
 "metadata": {
  "kernelspec": {
   "display_name": "Python 3",
   "language": "python",
   "name": "python3"
  },
  "language_info": {
   "codemirror_mode": {
    "name": "ipython",
    "version": 2
   },
   "file_extension": ".py",
   "mimetype": "text/x-python",
   "name": "python",
   "nbconvert_exporter": "python",
   "pygments_lexer": "ipython2",
   "version": "2.7.6"
  }
 },
 "nbformat": 4,
 "nbformat_minor": 5
}
