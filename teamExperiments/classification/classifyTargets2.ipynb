{
 "cells": [
  {
   "cell_type": "code",
   "id": "initial_id",
   "metadata": {
    "collapsed": true,
    "ExecuteTime": {
     "end_time": "2025-01-21T06:31:54.389264Z",
     "start_time": "2025-01-21T06:31:51.226906Z"
    }
   },
   "source": [
    "import os\n",
    "import datetime as dt\n",
    "os.chdir('/Users/thom/Personnel/Scolaire/MIA/snake2-beta-insa-main/data/teamExperiments')\n",
    "from attackDopel import*\n",
    "from classifyTargets import *"
   ],
   "outputs": [],
   "execution_count": 1
  },
  {
   "metadata": {
    "ExecuteTime": {
     "end_time": "2025-01-21T06:31:54.402059Z",
     "start_time": "2025-01-21T06:31:54.398752Z"
    }
   },
   "cell_type": "code",
   "source": "taskNumber = 1",
   "id": "81bfe3add91493e5",
   "outputs": [],
   "execution_count": 2
  },
  {
   "metadata": {
    "ExecuteTime": {
     "end_time": "2025-01-23T02:30:49.181846Z",
     "start_time": "2025-01-21T06:31:54.849924Z"
    }
   },
   "cell_type": "code",
   "source": "%run classification/createClassifiers2.ipynb",
   "id": "14402cc9c1081fda",
   "outputs": [
    {
     "name": "stdout",
     "output_type": "stream",
     "text": [
      "\n",
      "--------------------------------\n",
      "Creation of classifiers training dataset\n",
      "--------------------------------\n",
      "\n",
      "\n",
      "--------------------------------\n",
      "Training of classifiers\n",
      "--------------------------------\n",
      "\n",
      "Training model : LogisticRegression\n",
      "Training model : DecisionTreeClassifier\n",
      "Training model : KNeighborsClassifier\n",
      "Training model : GaussianNB\n",
      "Training model : SVC\n",
      "Training model : RandomForestClassifier\n",
      "Training model : XGBClassifier\n",
      "Training model : StackingClassifier\n"
     ]
    }
   ],
   "execution_count": 3
  },
  {
   "metadata": {
    "ExecuteTime": {
     "end_time": "2025-01-23T02:30:49.639024Z",
     "start_time": "2025-01-23T02:30:49.586411Z"
    }
   },
   "cell_type": "code",
   "source": "trainingSet",
   "id": "737a962fc62a16c6",
   "outputs": [
    {
     "data": {
      "text/plain": [
       "                0         1         2         3         4         5         6  \\\n",
       "1010482  0.208497  0.380235  0.391160  0.154934  0.060610  0.000000  0.267062   \n",
       "871288   0.097900  0.323201  0.296988  0.309761  0.279562  0.265334  0.360310   \n",
       "683414   0.432587  0.317959  0.433178  0.381341  0.377599  0.332187  0.283790   \n",
       "989392   0.247818  0.475332  0.291306  0.245848  0.266683  0.309640  0.414722   \n",
       "179497   0.000000  0.000000  0.017653  0.014319  0.036517  0.058261  0.000000   \n",
       "...           ...       ...       ...       ...       ...       ...       ...   \n",
       "99995    0.222589  0.202058  0.200997  0.111976  0.164268  0.118947  0.136372   \n",
       "99996    0.249106  0.306276  0.346688  0.491848  0.246909  0.000000  0.282744   \n",
       "99997    0.000000  0.035684  0.143039  0.258713  0.120235  0.110461  0.267971   \n",
       "99998    0.469922  0.000000  0.544548  0.658964  0.854855  0.578050  0.468953   \n",
       "99999    0.216710  0.268365  0.293094  0.078505  0.032638  0.176162  0.161707   \n",
       "\n",
       "         isMember  \n",
       "1010482         0  \n",
       "871288          0  \n",
       "683414          0  \n",
       "989392          0  \n",
       "179497          0  \n",
       "...           ...  \n",
       "99995           1  \n",
       "99996           1  \n",
       "99997           1  \n",
       "99998           1  \n",
       "99999           1  \n",
       "\n",
       "[200000 rows x 8 columns]"
      ],
      "text/html": [
       "<div>\n",
       "<style scoped>\n",
       "    .dataframe tbody tr th:only-of-type {\n",
       "        vertical-align: middle;\n",
       "    }\n",
       "\n",
       "    .dataframe tbody tr th {\n",
       "        vertical-align: top;\n",
       "    }\n",
       "\n",
       "    .dataframe thead th {\n",
       "        text-align: right;\n",
       "    }\n",
       "</style>\n",
       "<table border=\"1\" class=\"dataframe\">\n",
       "  <thead>\n",
       "    <tr style=\"text-align: right;\">\n",
       "      <th></th>\n",
       "      <th>0</th>\n",
       "      <th>1</th>\n",
       "      <th>2</th>\n",
       "      <th>3</th>\n",
       "      <th>4</th>\n",
       "      <th>5</th>\n",
       "      <th>6</th>\n",
       "      <th>isMember</th>\n",
       "    </tr>\n",
       "  </thead>\n",
       "  <tbody>\n",
       "    <tr>\n",
       "      <th>1010482</th>\n",
       "      <td>0.208497</td>\n",
       "      <td>0.380235</td>\n",
       "      <td>0.391160</td>\n",
       "      <td>0.154934</td>\n",
       "      <td>0.060610</td>\n",
       "      <td>0.000000</td>\n",
       "      <td>0.267062</td>\n",
       "      <td>0</td>\n",
       "    </tr>\n",
       "    <tr>\n",
       "      <th>871288</th>\n",
       "      <td>0.097900</td>\n",
       "      <td>0.323201</td>\n",
       "      <td>0.296988</td>\n",
       "      <td>0.309761</td>\n",
       "      <td>0.279562</td>\n",
       "      <td>0.265334</td>\n",
       "      <td>0.360310</td>\n",
       "      <td>0</td>\n",
       "    </tr>\n",
       "    <tr>\n",
       "      <th>683414</th>\n",
       "      <td>0.432587</td>\n",
       "      <td>0.317959</td>\n",
       "      <td>0.433178</td>\n",
       "      <td>0.381341</td>\n",
       "      <td>0.377599</td>\n",
       "      <td>0.332187</td>\n",
       "      <td>0.283790</td>\n",
       "      <td>0</td>\n",
       "    </tr>\n",
       "    <tr>\n",
       "      <th>989392</th>\n",
       "      <td>0.247818</td>\n",
       "      <td>0.475332</td>\n",
       "      <td>0.291306</td>\n",
       "      <td>0.245848</td>\n",
       "      <td>0.266683</td>\n",
       "      <td>0.309640</td>\n",
       "      <td>0.414722</td>\n",
       "      <td>0</td>\n",
       "    </tr>\n",
       "    <tr>\n",
       "      <th>179497</th>\n",
       "      <td>0.000000</td>\n",
       "      <td>0.000000</td>\n",
       "      <td>0.017653</td>\n",
       "      <td>0.014319</td>\n",
       "      <td>0.036517</td>\n",
       "      <td>0.058261</td>\n",
       "      <td>0.000000</td>\n",
       "      <td>0</td>\n",
       "    </tr>\n",
       "    <tr>\n",
       "      <th>...</th>\n",
       "      <td>...</td>\n",
       "      <td>...</td>\n",
       "      <td>...</td>\n",
       "      <td>...</td>\n",
       "      <td>...</td>\n",
       "      <td>...</td>\n",
       "      <td>...</td>\n",
       "      <td>...</td>\n",
       "    </tr>\n",
       "    <tr>\n",
       "      <th>99995</th>\n",
       "      <td>0.222589</td>\n",
       "      <td>0.202058</td>\n",
       "      <td>0.200997</td>\n",
       "      <td>0.111976</td>\n",
       "      <td>0.164268</td>\n",
       "      <td>0.118947</td>\n",
       "      <td>0.136372</td>\n",
       "      <td>1</td>\n",
       "    </tr>\n",
       "    <tr>\n",
       "      <th>99996</th>\n",
       "      <td>0.249106</td>\n",
       "      <td>0.306276</td>\n",
       "      <td>0.346688</td>\n",
       "      <td>0.491848</td>\n",
       "      <td>0.246909</td>\n",
       "      <td>0.000000</td>\n",
       "      <td>0.282744</td>\n",
       "      <td>1</td>\n",
       "    </tr>\n",
       "    <tr>\n",
       "      <th>99997</th>\n",
       "      <td>0.000000</td>\n",
       "      <td>0.035684</td>\n",
       "      <td>0.143039</td>\n",
       "      <td>0.258713</td>\n",
       "      <td>0.120235</td>\n",
       "      <td>0.110461</td>\n",
       "      <td>0.267971</td>\n",
       "      <td>1</td>\n",
       "    </tr>\n",
       "    <tr>\n",
       "      <th>99998</th>\n",
       "      <td>0.469922</td>\n",
       "      <td>0.000000</td>\n",
       "      <td>0.544548</td>\n",
       "      <td>0.658964</td>\n",
       "      <td>0.854855</td>\n",
       "      <td>0.578050</td>\n",
       "      <td>0.468953</td>\n",
       "      <td>1</td>\n",
       "    </tr>\n",
       "    <tr>\n",
       "      <th>99999</th>\n",
       "      <td>0.216710</td>\n",
       "      <td>0.268365</td>\n",
       "      <td>0.293094</td>\n",
       "      <td>0.078505</td>\n",
       "      <td>0.032638</td>\n",
       "      <td>0.176162</td>\n",
       "      <td>0.161707</td>\n",
       "      <td>1</td>\n",
       "    </tr>\n",
       "  </tbody>\n",
       "</table>\n",
       "<p>200000 rows × 8 columns</p>\n",
       "</div>"
      ]
     },
     "execution_count": 4,
     "metadata": {},
     "output_type": "execute_result"
    }
   ],
   "execution_count": 4
  },
  {
   "metadata": {
    "ExecuteTime": {
     "end_time": "2025-01-23T07:15:31.100412Z",
     "start_time": "2025-01-23T07:15:27.237546Z"
    }
   },
   "cell_type": "code",
   "source": "predictions = classifyTarget(taskNumber, classifiersCollection)",
   "id": "6c14607f921e8eba",
   "outputs": [],
   "execution_count": 7
  },
  {
   "metadata": {
    "ExecuteTime": {
     "end_time": "2025-01-23T07:15:32.845510Z",
     "start_time": "2025-01-23T07:15:32.831772Z"
    }
   },
   "cell_type": "code",
   "source": "export_TargetsClassification(\"/Users/thom/Personnel/Scolaire/MIA/snake2-beta-insa-main/data/teamExperiments/results/\", taskNumber, classifiersCollection, predictions)",
   "id": "e8d813da779b1cdf",
   "outputs": [
    {
     "data": {
      "text/plain": [
       "0"
      ]
     },
     "execution_count": 8,
     "metadata": {},
     "output_type": "execute_result"
    }
   ],
   "execution_count": 8
  },
  {
   "metadata": {
    "ExecuteTime": {
     "end_time": "2025-01-23T07:17:21.472705Z",
     "start_time": "2025-01-23T07:17:21.455062Z"
    }
   },
   "cell_type": "code",
   "source": "predictions",
   "id": "542cb66a7be65e7",
   "outputs": [
    {
     "data": {
      "text/plain": [
       "[array([1, 0, 0, 0, 0, 0, 1, 0, 0, 0, 1, 1, 0, 1, 0, 0, 0, 0, 1, 1, 0, 1,\n",
       "        0, 0, 1, 1, 0, 1, 1, 0, 0, 0, 0, 1, 1, 1, 0, 0, 1, 0, 0, 1, 0, 0,\n",
       "        0, 0, 0, 1, 0, 0, 0, 0, 0, 0, 1, 0, 1, 1, 1, 0, 1, 1, 0, 1, 1, 1,\n",
       "        0, 0, 1, 0, 0, 0, 1, 1, 0, 0, 0, 0, 1, 0, 0, 0, 0, 0, 0, 0, 1, 0,\n",
       "        0, 0, 0, 1, 0, 1, 0, 1, 0, 0, 1, 0]),\n",
       " array([0, 0, 0, 0, 1, 1, 1, 1, 0, 1, 0, 0, 0, 1, 1, 0, 0, 0, 0, 0, 0, 0,\n",
       "        0, 0, 0, 0, 1, 0, 0, 1, 0, 1, 0, 1, 0, 1, 1, 1, 0, 1, 0, 1, 1, 1,\n",
       "        0, 0, 1, 1, 1, 1, 0, 1, 1, 0, 0, 0, 1, 1, 0, 0, 1, 0, 0, 0, 1, 1,\n",
       "        0, 0, 1, 0, 0, 0, 1, 0, 1, 0, 0, 0, 0, 1, 1, 0, 0, 1, 0, 0, 0, 1,\n",
       "        0, 0, 0, 1, 1, 0, 0, 0, 0, 0, 1, 0]),\n",
       " array([1, 0, 1, 0, 1, 0, 0, 0, 1, 1, 0, 0, 1, 0, 1, 0, 0, 0, 0, 1, 0, 0,\n",
       "        1, 1, 1, 0, 1, 0, 1, 1, 1, 1, 0, 1, 1, 1, 0, 1, 1, 0, 1, 0, 0, 1,\n",
       "        0, 1, 1, 0, 1, 1, 0, 0, 1, 0, 1, 0, 0, 0, 1, 0, 1, 1, 0, 0, 1, 1,\n",
       "        0, 1, 0, 1, 0, 1, 1, 0, 0, 1, 0, 1, 0, 0, 0, 0, 1, 1, 0, 0, 1, 0,\n",
       "        0, 0, 1, 1, 1, 1, 0, 1, 0, 0, 0, 1]),\n",
       " array([1, 0, 0, 0, 0, 1, 0, 0, 0, 0, 1, 0, 1, 1, 0, 1, 0, 1, 0, 0, 0, 0,\n",
       "        1, 1, 0, 1, 0, 1, 1, 0, 0, 1, 0, 1, 0, 1, 0, 0, 0, 0, 0, 1, 0, 0,\n",
       "        0, 0, 0, 1, 1, 0, 0, 0, 1, 0, 1, 0, 1, 0, 1, 0, 1, 1, 0, 0, 1, 1,\n",
       "        0, 0, 1, 1, 0, 0, 1, 0, 1, 1, 0, 1, 1, 0, 1, 0, 1, 0, 0, 0, 1, 0,\n",
       "        0, 1, 1, 1, 0, 1, 0, 1, 1, 0, 1, 0]),\n",
       " array([1, 0, 1, 1, 1, 0, 0, 0, 1, 0, 1, 0, 0, 0, 0, 0, 0, 0, 0, 1, 0, 0,\n",
       "        1, 1, 0, 0, 0, 0, 0, 1, 0, 0, 1, 0, 1, 0, 0, 0, 1, 1, 0, 0, 0, 0,\n",
       "        0, 0, 0, 0, 1, 1, 1, 1, 0, 1, 1, 0, 1, 0, 0, 0, 1, 1, 0, 0, 1, 1,\n",
       "        1, 0, 1, 1, 1, 1, 1, 1, 0, 1, 0, 1, 0, 1, 0, 1, 0, 0, 1, 1, 0, 1,\n",
       "        0, 0, 0, 1, 0, 1, 0, 0, 0, 1, 1, 1]),\n",
       " array([1, 0, 1, 0, 1, 0, 0, 0, 1, 0, 0, 0, 1, 1, 0, 0, 1, 0, 0, 1, 0, 0,\n",
       "        1, 1, 1, 0, 1, 0, 0, 1, 1, 1, 1, 0, 1, 0, 1, 0, 0, 0, 0, 1, 0, 1,\n",
       "        1, 1, 1, 0, 1, 1, 1, 1, 1, 0, 0, 0, 1, 0, 0, 1, 1, 0, 0, 0, 0, 1,\n",
       "        0, 1, 0, 1, 0, 0, 1, 0, 1, 0, 0, 1, 0, 0, 0, 1, 0, 1, 0, 1, 0, 1,\n",
       "        1, 0, 1, 1, 1, 1, 0, 0, 1, 0, 0, 1]),\n",
       " array([1, 0, 1, 1, 1, 1, 1, 1, 0, 1, 1, 0, 0, 0, 1, 1, 1, 1, 1, 1, 0, 0,\n",
       "        1, 1, 0, 1, 0, 0, 1, 1, 1, 1, 1, 0, 0, 0, 0, 0, 0, 0, 0, 0, 0, 1,\n",
       "        1, 0, 1, 1, 1, 1, 0, 1, 0, 0, 1, 0, 0, 0, 0, 1, 1, 0, 1, 0, 1, 1,\n",
       "        1, 0, 0, 0, 0, 0, 1, 0, 0, 1, 0, 1, 1, 1, 1, 0, 0, 0, 1, 0, 0, 1,\n",
       "        0, 1, 0, 1, 0, 1, 0, 0, 1, 0, 1, 1]),\n",
       " array([1, 0, 1, 0, 1, 0, 1, 1, 0, 1, 0, 0, 1, 0, 1, 0, 0, 0, 0, 1, 0, 0,\n",
       "        1, 1, 1, 0, 1, 0, 0, 1, 1, 1, 0, 1, 0, 1, 1, 1, 0, 1, 0, 1, 1, 1,\n",
       "        0, 0, 1, 1, 1, 1, 0, 1, 1, 1, 0, 0, 1, 1, 0, 1, 1, 1, 0, 0, 1, 1,\n",
       "        0, 1, 1, 0, 0, 1, 1, 0, 1, 0, 0, 1, 0, 1, 1, 0, 1, 1, 0, 0, 1, 1,\n",
       "        0, 1, 0, 1, 1, 1, 0, 0, 1, 0, 1, 1])]"
      ]
     },
     "execution_count": 9,
     "metadata": {},
     "output_type": "execute_result"
    }
   ],
   "execution_count": 9
  }
 ],
 "metadata": {
  "kernelspec": {
   "display_name": "Python 3",
   "language": "python",
   "name": "python3"
  },
  "language_info": {
   "codemirror_mode": {
    "name": "ipython",
    "version": 2
   },
   "file_extension": ".py",
   "mimetype": "text/x-python",
   "name": "python",
   "nbconvert_exporter": "python",
   "pygments_lexer": "ipython2",
   "version": "2.7.6"
  }
 },
 "nbformat": 4,
 "nbformat_minor": 5
}
